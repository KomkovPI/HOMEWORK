{
 "cells": [
  {
   "cell_type": "code",
   "execution_count": 2,
   "id": "da68038e-7008-428e-afcb-4d26d59e9f61",
   "metadata": {},
   "outputs": [],
   "source": [
    "class Test:\n",
    "    @staticmethod\n",
    "    def assert_equals(a, b, *args, **kwargs):\n",
    "        assert a == b\n",
    "        print('Passed')"
   ]
  },
  {
   "cell_type": "markdown",
   "id": "8e9eb81f-b741-429e-9d46-948bd70c16ba",
   "metadata": {},
   "source": [
    "Problem https://edabit.com/challenge/4gzDuDkompAqujpRi (1 point)"
   ]
  },
  {
   "cell_type": "code",
   "execution_count": 3,
   "id": "21580a08-6c78-42f4-94e1-529c247a9073",
   "metadata": {},
   "outputs": [],
   "source": [
    "def add_up(x):\n",
    "    if x == 1:\n",
    "        return x\n",
    "    else:\n",
    "        return x + add_up(x-1)"
   ]
  },
  {
   "cell_type": "code",
   "execution_count": 4,
   "id": "c451c436-7e21-40a5-be45-abd9339af34a",
   "metadata": {},
   "outputs": [
    {
     "name": "stdout",
     "output_type": "stream",
     "text": [
      "Passed\n",
      "Passed\n",
      "Passed\n",
      "Passed\n",
      "Passed\n",
      "Passed\n",
      "Passed\n",
      "Passed\n",
      "Passed\n",
      "Passed\n",
      "Passed\n",
      "Passed\n",
      "Passed\n",
      "Passed\n",
      "Passed\n"
     ]
    }
   ],
   "source": [
    "Test.assert_equals(add_up(4), 10)\n",
    "Test.assert_equals(add_up(13), 91)\n",
    "Test.assert_equals(add_up(600), 180300)\n",
    "Test.assert_equals(add_up(392), 77028)\n",
    "Test.assert_equals(add_up(53), 1431)\n",
    "Test.assert_equals(add_up(897), 402753)\n",
    "Test.assert_equals(add_up(23), 276)\n",
    "Test.assert_equals(add_up(1000), 500500)\n",
    "Test.assert_equals(add_up(738), 272691)\n",
    "Test.assert_equals(add_up(100), 5050)\n",
    "Test.assert_equals(add_up(925), 428275)\n",
    "Test.assert_equals(add_up(1), 1)\n",
    "Test.assert_equals(add_up(999), 499500)\n",
    "Test.assert_equals(add_up(175), 15400)\n",
    "Test.assert_equals(add_up(111), 6216)"
   ]
  },
  {
   "cell_type": "markdown",
   "id": "dc427c00-6f73-4b1b-899a-500a81838695",
   "metadata": {},
   "source": [
    "Problem https://edabit.com/challenge/y9Rans4Ry5oW74cat (1 point)"
   ]
  },
  {
   "cell_type": "code",
   "execution_count": 5,
   "id": "cc2eed8f-9838-47f0-9a68-f2fdda9fdb01",
   "metadata": {},
   "outputs": [],
   "source": [
    "def min_max(x):\n",
    "    return [min(x), max(x)]"
   ]
  },
  {
   "cell_type": "code",
   "execution_count": 6,
   "id": "8c967f2d-c1b2-4b31-bd11-b140b88bf1b8",
   "metadata": {},
   "outputs": [
    {
     "name": "stdout",
     "output_type": "stream",
     "text": [
      "Passed\n",
      "Passed\n",
      "Passed\n",
      "Passed\n",
      "Passed\n",
      "Passed\n"
     ]
    }
   ],
   "source": [
    "Test.assert_equals(min_max([1.346, 1.6532, 1.8734, 1.8723]), [1.346, 1.8734])\n",
    "Test.assert_equals(min_max([0.432, 0.874, 0.523, 0.984, 0.327, 0.2345]), [0.2345, 0.984])\n",
    "Test.assert_equals(min_max([13, 72, 98, 43, 24, 65, 31]), [13, 98])\n",
    "Test.assert_equals(min_max([-54, -23, -54, -21]), [-54, -21])\n",
    "Test.assert_equals(min_max([-0.473, -0.6834, -0.1287, 0.5632]), [-0.6834, 0.5632])\n",
    "Test.assert_equals(min_max([0, 0, 0, 0]), [0, 0])"
   ]
  },
  {
   "cell_type": "markdown",
   "id": "535fa8f9-160a-4bfd-8360-0aec90e2fdcd",
   "metadata": {},
   "source": [
    "Problem https://edabit.com/challenge/wFpi2zFGxWxfj5mZS (2 point)"
   ]
  },
  {
   "cell_type": "code",
   "execution_count": 7,
   "id": "e94361c8-4c82-411d-8624-952a9447b725",
   "metadata": {},
   "outputs": [],
   "source": [
    "def count_true(x):\n",
    "    n = 0\n",
    "    for i in range(len(x)):\n",
    "        n += x[i]\n",
    "    return n"
   ]
  },
  {
   "cell_type": "code",
   "execution_count": 8,
   "id": "b199bd0e-1252-4cac-9bad-ef64dfdc69f3",
   "metadata": {},
   "outputs": [
    {
     "name": "stdout",
     "output_type": "stream",
     "text": [
      "Passed\n",
      "Passed\n",
      "Passed\n",
      "Passed\n",
      "Passed\n",
      "Passed\n",
      "Passed\n",
      "Passed\n",
      "Passed\n",
      "Passed\n",
      "Passed\n",
      "Passed\n"
     ]
    }
   ],
   "source": [
    "Test.assert_equals(count_true([False, False, False, False]), 0)\n",
    "Test.assert_equals(count_true([]), 0)\n",
    "Test.assert_equals(count_true([False, False, True, True, False, False, False, True, True, True, True, False, True, True, False]), 8)\n",
    "Test.assert_equals(count_true([True, False, True, True, False, False, False, False, False]), 3)\n",
    "Test.assert_equals(count_true([False, True, True, False, True, True, False, True, False, True, False, True, False, True, False]), 8)\n",
    "Test.assert_equals(count_true([True, False, True, True, True, False, True, True, False, False]), 6)\n",
    "Test.assert_equals(count_true([False, False, False, False, True, False, True, False, True, False, False]), 3)\n",
    "Test.assert_equals(count_true([True, False, False, False, True, False, False, True, False, False, False]), 3)\n",
    "Test.assert_equals(count_true([True, True, False, True, False, False, False, False, True, False]), 4)\n",
    "Test.assert_equals(count_true([True, False, True, True, False, True, True, True, True, False, True, False, True, False]), 9)\n",
    "Test.assert_equals(count_true([True, False, True, True, True, True, False, True, True, False, True, False, False, False, False]), 8)\n",
    "Test.assert_equals(count_true([True, True, False, False, False, False, True, False, True, True, False, True]), 6)"
   ]
  },
  {
   "cell_type": "markdown",
   "id": "4bc8a5a5-06b9-4158-a053-841c4eca20a9",
   "metadata": {},
   "source": [
    "Problem https://edabit.com/challenge/NHfYRHg2tDtcZyykB (2 point)"
   ]
  },
  {
   "cell_type": "code",
   "execution_count": 10,
   "id": "824c3d2d-6ade-476d-b72f-0561f13ae34c",
   "metadata": {},
   "outputs": [],
   "source": [
    "def possible_bonus(x, y):\n",
    "    if (y - x) > 6:\n",
    "        return False\n",
    "    elif x > y:\n",
    "        return False\n",
    "    elif x == y:\n",
    "        return False\n",
    "    else:\n",
    "        return True"
   ]
  },
  {
   "cell_type": "code",
   "execution_count": 11,
   "id": "0e2f7ff3-e19c-4761-b365-ce501f46dc20",
   "metadata": {},
   "outputs": [
    {
     "name": "stdout",
     "output_type": "stream",
     "text": [
      "Passed\n",
      "Passed\n",
      "Passed\n",
      "Passed\n",
      "Passed\n",
      "Passed\n",
      "Passed\n",
      "Passed\n",
      "Passed\n",
      "Passed\n",
      "Passed\n",
      "Passed\n"
     ]
    }
   ],
   "source": [
    "Test.assert_equals(possible_bonus(3, 7), True)\n",
    "Test.assert_equals(possible_bonus(0, 6), True)\n",
    "Test.assert_equals(possible_bonus(1, 6), True)\n",
    "Test.assert_equals(possible_bonus(2, 6), True)\n",
    "Test.assert_equals(possible_bonus(3, 6), True)\n",
    "Test.assert_equals(possible_bonus(4, 6), True)\n",
    "Test.assert_equals(possible_bonus(5, 6), True)\n",
    "Test.assert_equals(possible_bonus(6, 6), False)\n",
    "Test.assert_equals(possible_bonus(7, 6), False)\n",
    "Test.assert_equals(possible_bonus(23, 27), True)\n",
    "Test.assert_equals(possible_bonus(1, 9), False)\n",
    "Test.assert_equals(possible_bonus(5, 3), False)"
   ]
  },
  {
   "cell_type": "markdown",
   "id": "3f5e88e1-9563-4a75-b007-3972c90b749b",
   "metadata": {},
   "source": [
    "Problem https://edabit.com/challenge/2zKetgAJp4WRFXiDT (2 point)"
   ]
  },
  {
   "cell_type": "code",
   "execution_count": 26,
   "id": "6bcc2c5f-b926-4a72-98f8-7ffaade6e90b",
   "metadata": {},
   "outputs": [],
   "source": [
    "def number_length(x):\n",
    "    if x // 10 == 0:\n",
    "        return 1\n",
    "    else:\n",
    "        return number_length(x//10) + 1       "
   ]
  },
  {
   "cell_type": "code",
   "execution_count": 25,
   "id": "b01d77d0-fe71-419e-8fd6-9e74fe7c782c",
   "metadata": {},
   "outputs": [
    {
     "name": "stdout",
     "output_type": "stream",
     "text": [
      "Passed\n",
      "Passed\n",
      "Passed\n"
     ]
    }
   ],
   "source": [
    "Test.assert_equals(number_length(10), 2)\n",
    "Test.assert_equals(number_length(5000), 4)\n",
    "Test.assert_equals(number_length(0), 1)"
   ]
  },
  {
   "cell_type": "markdown",
   "id": "653f8ac7-52f4-4478-9f06-b623adcc355a",
   "metadata": {},
   "source": [
    "Problem https://edabit.com/challenge/st8mDxreMcuWxuz8c (3 point)"
   ]
  },
  {
   "cell_type": "code",
   "execution_count": 9,
   "id": "fb1b5a3b-db46-4f89-a656-6ddfcee070ca",
   "metadata": {},
   "outputs": [],
   "source": [
    "def pentagonal(x):\n",
    "    if x == 1:\n",
    "        return 1\n",
    "    else:  \n",
    "        return  5*(x-1) + pentagonal(x-1)   "
   ]
  },
  {
   "cell_type": "code",
   "execution_count": 10,
   "id": "de14828c-a9a1-4626-8740-dac3f6b94be3",
   "metadata": {},
   "outputs": [
    {
     "name": "stdout",
     "output_type": "stream",
     "text": [
      "Passed\n",
      "Passed\n",
      "Passed\n",
      "Passed\n",
      "Passed\n",
      "Passed\n",
      "Passed\n",
      "Passed\n",
      "Passed\n",
      "Passed\n",
      "Passed\n"
     ]
    }
   ],
   "source": [
    "Test.assert_equals(pentagonal(1), 1)\n",
    "Test.assert_equals(pentagonal(3), 16)\n",
    "Test.assert_equals(pentagonal(8), 141)\n",
    "Test.assert_equals(pentagonal(10), 226)\n",
    "Test.assert_equals(pentagonal(15), 526)\n",
    "Test.assert_equals(pentagonal(33), 2641)\n",
    "Test.assert_equals(pentagonal(43), 4516)\n",
    "Test.assert_equals(pentagonal(13), 391)\n",
    "Test.assert_equals(pentagonal(50), 6126)\n",
    "Test.assert_equals(pentagonal(62), 9456)\n",
    "Test.assert_equals(pentagonal(21), 1051)"
   ]
  },
  {
   "cell_type": "markdown",
   "id": "8bf3cd7c-a7c8-42b9-a51b-e65e1cc0516a",
   "metadata": {},
   "source": [
    "Problem https://edabit.com/challenge/Fpymv2HieqEd7ptAq (4 point)"
   ]
  },
  {
   "cell_type": "code",
   "execution_count": 54,
   "id": "669bbc13-717e-4851-8631-052afdbe1096",
   "metadata": {},
   "outputs": [],
   "source": [
    "def split(x):\n",
    "    s = []\n",
    "    res = \"\"\n",
    "    flag1 = 0\n",
    "    flag2 = 0\n",
    "    for i in x:\n",
    "        if i == \"(\":\n",
    "            flag1 += 1\n",
    "            res += i\n",
    "        else:\n",
    "            flag2 +=1\n",
    "            res += i\n",
    "            if flag1 == flag2:\n",
    "                s.append(res)\n",
    "                flag1 = 0\n",
    "                flag2 = 0\n",
    "                res = \"\"\n",
    "    return s"
   ]
  },
  {
   "cell_type": "code",
   "execution_count": 55,
   "id": "efc6eba4-9720-4f46-9de1-d3e479862cd6",
   "metadata": {},
   "outputs": [
    {
     "name": "stdout",
     "output_type": "stream",
     "text": [
      "Passed\n",
      "Passed\n",
      "Passed\n",
      "Passed\n",
      "Passed\n",
      "Passed\n",
      "Passed\n",
      "Passed\n",
      "Passed\n",
      "Passed\n"
     ]
    }
   ],
   "source": [
    "Test.assert_equals(split(\"()()()\"), [\"()\", \"()\", \"()\"])\n",
    "Test.assert_equals(split(\"\"), [])\n",
    "Test.assert_equals(split(\"()()(())\"), [\"()\", \"()\", \"(())\"])\n",
    "Test.assert_equals(split(\"(())(())\"), [\"(())\", \"(())\"])\n",
    "Test.assert_equals(split(\"((()))\"), [\"((()))\"])\n",
    "Test.assert_equals(split(\"()(((((((((())))))))))\"), [\"()\", \"(((((((((())))))))))\"])\n",
    "Test.assert_equals(split(\"((())()(()))(()(())())(()())\"), [\"((())()(()))\", \"(()(())())\", \"(()())\"])\n",
    "Test.assert_equals(split(\"((()))(())()()(()())\"), [\"((()))\", \"(())\", \"()\", \"()\", \"(()())\"])\n",
    "Test.assert_equals(split(\"((())())(()(()()))\"), [\"((())())\", \"(()(()()))\"])\n",
    "Test.assert_equals(split(\"(()(()()))()(((()))()(()))(()((()))(())())\"), [\"(()(()()))\", \"()\", \"(((()))()(()))\", \"(()((()))(())())\"])"
   ]
  }
 ],
 "metadata": {
  "kernelspec": {
   "display_name": "Python [conda env:base] *",
   "language": "python",
   "name": "conda-base-py"
  },
  "language_info": {
   "codemirror_mode": {
    "name": "ipython",
    "version": 3
   },
   "file_extension": ".py",
   "mimetype": "text/x-python",
   "name": "python",
   "nbconvert_exporter": "python",
   "pygments_lexer": "ipython3",
   "version": "3.13.5"
  }
 },
 "nbformat": 4,
 "nbformat_minor": 5
}
