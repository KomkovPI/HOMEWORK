{
 "cells": [
  {
   "cell_type": "code",
   "execution_count": 3,
   "id": "da68038e-7008-428e-afcb-4d26d59e9f61",
   "metadata": {},
   "outputs": [],
   "source": [
    "class Test:\n",
    "    @staticmethod\n",
    "    def assert_equals(a, b, *args, **kwargs):\n",
    "        assert a == b\n",
    "        print('Passed')"
   ]
  },
  {
   "cell_type": "markdown",
   "id": "8e9eb81f-b741-429e-9d46-948bd70c16ba",
   "metadata": {},
   "source": [
    "Problem https://edabit.com/challenge/4gzDuDkompAqujpRi (1 point)"
   ]
  },
  {
   "cell_type": "code",
   "execution_count": 26,
   "id": "21580a08-6c78-42f4-94e1-529c247a9073",
   "metadata": {},
   "outputs": [],
   "source": [
    "def add_up(x):\n",
    "    if x == 1:\n",
    "        return x\n",
    "    else:\n",
    "        return x + add_up(x-1)"
   ]
  },
  {
   "cell_type": "code",
   "execution_count": 30,
   "id": "c451c436-7e21-40a5-be45-abd9339af34a",
   "metadata": {
    "jupyter": {
     "source_hidden": true
    }
   },
   "outputs": [
    {
     "name": "stdout",
     "output_type": "stream",
     "text": [
      "Passed\n",
      "Passed\n",
      "Passed\n"
     ]
    }
   ],
   "source": [
    "Test.assert_equals(add_up(4), 10)\n",
    "Test.assert_equals(add_up(13), 91)\n",
    "Test.assert_equals(add_up(600), 180300)"
   ]
  },
  {
   "cell_type": "markdown",
   "id": "dc427c00-6f73-4b1b-899a-500a81838695",
   "metadata": {},
   "source": [
    "Problem https://edabit.com/challenge/y9Rans4Ry5oW74cat (1 point)"
   ]
  },
  {
   "cell_type": "code",
   "execution_count": 36,
   "id": "cc2eed8f-9838-47f0-9a68-f2fdda9fdb01",
   "metadata": {},
   "outputs": [],
   "source": [
    "def min_max(x):\n",
    "    return [min(x), max(x)]"
   ]
  },
  {
   "cell_type": "code",
   "execution_count": 37,
   "id": "8c967f2d-c1b2-4b31-bd11-b140b88bf1b8",
   "metadata": {},
   "outputs": [
    {
     "name": "stdout",
     "output_type": "stream",
     "text": [
      "Passed\n",
      "Passed\n",
      "Passed\n"
     ]
    }
   ],
   "source": [
    "Test.assert_equals(min_max([14, 35, 6, 1, 34, 54]), [1, 54])\n",
    "Test.assert_equals(min_max([1.346, 1.6532, 1.8734, 1.8723]), [1.346, 1.8734])\n",
    "Test.assert_equals(min_max([0.432, 0.874, 0.523, 0.984, 0.327, 0.2345]), [0.2345, 0.984])"
   ]
  },
  {
   "cell_type": "markdown",
   "id": "535fa8f9-160a-4bfd-8360-0aec90e2fdcd",
   "metadata": {},
   "source": [
    "Problem https://edabit.com/challenge/wFpi2zFGxWxfj5mZS (2 point)"
   ]
  },
  {
   "cell_type": "code",
   "execution_count": 52,
   "id": "e94361c8-4c82-411d-8624-952a9447b725",
   "metadata": {},
   "outputs": [],
   "source": [
    "def count_true(x):\n",
    "    n = 0\n",
    "    for i in range(len(x)):\n",
    "        n += x[i]\n",
    "    return n"
   ]
  },
  {
   "cell_type": "code",
   "execution_count": 51,
   "id": "b199bd0e-1252-4cac-9bad-ef64dfdc69f3",
   "metadata": {},
   "outputs": [
    {
     "name": "stdout",
     "output_type": "stream",
     "text": [
      "Passed\n",
      "Passed\n",
      "Passed\n"
     ]
    }
   ],
   "source": [
    "Test.assert_equals(count_true([True, False, False, True, False]), 2)\n",
    "Test.assert_equals(count_true([False, False, False, False]), 0)\n",
    "Test.assert_equals(count_true([]), 0)"
   ]
  }
 ],
 "metadata": {
  "kernelspec": {
   "display_name": "Python [conda env:base] *",
   "language": "python",
   "name": "conda-base-py"
  },
  "language_info": {
   "codemirror_mode": {
    "name": "ipython",
    "version": 3
   },
   "file_extension": ".py",
   "mimetype": "text/x-python",
   "name": "python",
   "nbconvert_exporter": "python",
   "pygments_lexer": "ipython3",
   "version": "3.13.5"
  }
 },
 "nbformat": 4,
 "nbformat_minor": 5
}
