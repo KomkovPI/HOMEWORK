{
 "cells": [
  {
   "cell_type": "markdown",
   "id": "c43b02e2-3eef-4b8e-b3db-06e4346ca914",
   "metadata": {},
   "source": [
    "1.Создайте массив 10х10, заполненный в центре нулями, а по границе единицами."
   ]
  },
  {
   "cell_type": "code",
   "execution_count": 7,
   "id": "ecebac61-3257-4a3f-b716-3322b7b48407",
   "metadata": {},
   "outputs": [
    {
     "name": "stdout",
     "output_type": "stream",
     "text": [
      "[[1 1 1 1 1 1 1 1 1 1]\n",
      " [1 0 0 0 0 0 0 0 0 1]\n",
      " [1 0 0 0 0 0 0 0 0 1]\n",
      " [1 0 0 0 0 0 0 0 0 1]\n",
      " [1 0 0 0 0 0 0 0 0 1]\n",
      " [1 0 0 0 0 0 0 0 0 1]\n",
      " [1 0 0 0 0 0 0 0 0 1]\n",
      " [1 0 0 0 0 0 0 0 0 1]\n",
      " [1 0 0 0 0 0 0 0 0 1]\n",
      " [1 1 1 1 1 1 1 1 1 1]]\n"
     ]
    }
   ],
   "source": [
    "import numpy as np\n",
    "print((np.ones((10,10)) - np.pad(np.ones((8,8)), 1, constant_values=0)).astype(int))"
   ]
  },
  {
   "cell_type": "markdown",
   "id": "2ec445ef-ce0f-461a-8dc5-fcac61db2dec",
   "metadata": {},
   "source": [
    "2.Создайте массив 8х8, заполненный 0 и 1 в шахматном порядке."
   ]
  },
  {
   "cell_type": "code",
   "execution_count": 11,
   "id": "080dd87e-b396-456a-bfde-8cc513363e9c",
   "metadata": {},
   "outputs": [
    {
     "name": "stdout",
     "output_type": "stream",
     "text": [
      "[[0 1 0 1 0 1 0 1]\n",
      " [1 0 1 0 1 0 1 0]\n",
      " [0 1 0 1 0 1 0 1]\n",
      " [1 0 1 0 1 0 1 0]\n",
      " [0 1 0 1 0 1 0 1]\n",
      " [1 0 1 0 1 0 1 0]\n",
      " [0 1 0 1 0 1 0 1]\n",
      " [1 0 1 0 1 0 1 0]]\n"
     ]
    }
   ],
   "source": [
    "import numpy as np\n",
    "print((np.indices((8,8)).sum(axis=0) % 2))"
   ]
  },
  {
   "cell_type": "markdown",
   "id": "0467c7f2-c5f3-4001-962e-b011186b6e4c",
   "metadata": {},
   "source": [
    "3.Создайте матрицу 5x5 со значениями 1,2,3,4 под главной диагональю. Остальные значения - нули"
   ]
  },
  {
   "cell_type": "code",
   "execution_count": 14,
   "id": "fe089730-cc45-4968-a194-210d400e12b3",
   "metadata": {},
   "outputs": [
    {
     "name": "stdout",
     "output_type": "stream",
     "text": [
      "[[0 0 0 0 0]\n",
      " [1 0 0 0 0]\n",
      " [0 2 0 0 0]\n",
      " [0 0 3 0 0]\n",
      " [0 0 0 4 0]]\n"
     ]
    }
   ],
   "source": [
    "import numpy as np\n",
    "print(np.diag([1,2,3,4], k=-1))"
   ]
  },
  {
   "cell_type": "markdown",
   "id": "60e17621-26a7-4c96-80c9-93eb2c1ba13e",
   "metadata": {},
   "source": [
    "4.Создайте случайный массив 5х5 и нормируйте его так, чтобы среднее вдоль каждой строки было равно нулю."
   ]
  },
  {
   "cell_type": "code",
   "execution_count": 15,
   "id": "d06117a2-1866-4631-b287-ab7ddac51d76",
   "metadata": {},
   "outputs": [
    {
     "name": "stdout",
     "output_type": "stream",
     "text": [
      "[[ 0.10686592  0.26569503  0.34323932 -0.27647498 -0.43932528]\n",
      " [ 0.04234791 -0.26557168  0.03017206  0.54222299 -0.34917128]\n",
      " [-0.03868728  0.29890627 -0.01249934 -0.01633315 -0.23138651]\n",
      " [-0.08742777  0.19332779  0.06261759 -0.28952387  0.12100626]\n",
      " [-0.18519767 -0.28875842 -0.07226481  0.2081338   0.33808709]]\n"
     ]
    }
   ],
   "source": [
    "import numpy as np\n",
    "a = np.random.rand(5,5); print(a - a.mean(axis=1, keepdims=True))"
   ]
  },
  {
   "cell_type": "markdown",
   "id": "7784bedc-8f9e-4fc9-a29a-cdf7a00e04b2",
   "metadata": {},
   "source": [
    "5.Создайте двумерный массив 10x3, заполненный случайными числами от 0 до 1. В каждой строке выберите значение, наиболее близкое к 0.5."
   ]
  },
  {
   "cell_type": "code",
   "execution_count": 16,
   "id": "d20b8d87-ca49-4c94-b7ef-2e5903d8c0a7",
   "metadata": {},
   "outputs": [
    {
     "name": "stdout",
     "output_type": "stream",
     "text": [
      "[0.31030429 0.3993174  0.44740598 0.62599743 0.53122034 0.59098937\n",
      " 0.8405495  0.41138172 0.40737556 0.32551115]\n"
     ]
    }
   ],
   "source": [
    "import numpy as np\n",
    "a = np.random.rand(10,3); print(a[np.arange(10), np.argmin(np.abs(a-0.5), axis=1)])"
   ]
  },
  {
   "cell_type": "markdown",
   "id": "d5b3ce3a-ba9e-4891-b934-f6765db9beea",
   "metadata": {},
   "source": [
    "6.Создайте двумерный массив 6x6, заполненный случайными значениями. Сумму по каждой строке поделите на максимальный элемент из столбца с тем же индексом."
   ]
  },
  {
   "cell_type": "code",
   "execution_count": 17,
   "id": "9408e129-f492-407d-9bfd-13b75e8c5670",
   "metadata": {},
   "outputs": [
    {
     "name": "stdout",
     "output_type": "stream",
     "text": [
      "[3.73317586 2.23141866 4.3970064  3.6946121  3.96489629 2.79043452]\n"
     ]
    }
   ],
   "source": [
    "import numpy as np\n",
    "a = np.random.rand(6,6); print(a.sum(axis=1) / a.max(axis=0))"
   ]
  },
  {
   "cell_type": "markdown",
   "id": "df5d4664-9521-4c5e-83f6-16805eb5b922",
   "metadata": {},
   "source": [
    "7.На примере массива x = np.array([6, 2, 0, 3, 0, 0, 5, 7, 0]) найдите максимальный элемент в массиве среди элементов, перед которыми стоит ноль."
   ]
  },
  {
   "cell_type": "code",
   "execution_count": 19,
   "id": "402db500-2396-4364-be17-89169745b267",
   "metadata": {},
   "outputs": [
    {
     "name": "stdout",
     "output_type": "stream",
     "text": [
      "5\n"
     ]
    }
   ],
   "source": [
    "import numpy as np\n",
    "x = np.array([6, 2, 0, 3, 0, 0, 5, 7, 0]); print(np.max(x[1:][x[:-1] == 0]))"
   ]
  },
  {
   "cell_type": "markdown",
   "id": "a070cb18-700c-420d-b372-f36bd6bf35de",
   "metadata": {},
   "source": [
    "8.Пусть заданы два массива x = np.ones(10) и i = np.array([0, 1, 2, 3, 5, 5, 5, 8]). Прибавьте единицу к тем элементам массива x, индексы которых указаны в массиве i. В случае, если некоторый индекс встретился в массиве i несколько раз, прибавьте к соответствующему элементу массива x число вхождений данного индекса в массив i."
   ]
  },
  {
   "cell_type": "code",
   "execution_count": 21,
   "id": "f32cd71d-1e1c-4690-99ac-072feff791f0",
   "metadata": {},
   "outputs": [
    {
     "name": "stdout",
     "output_type": "stream",
     "text": [
      "[2. 2. 2. 2. 1. 4. 1. 1. 2. 1.]\n"
     ]
    }
   ],
   "source": [
    "import numpy as np\n",
    "x, i = np.ones(10), np.array([0,1,2,3,5,5,5,8]); np.add.at(x, i, 1); print(x)"
   ]
  },
  {
   "cell_type": "markdown",
   "id": "ae66d401-d4da-4d17-8aac-8c9640ee89bf",
   "metadata": {},
   "source": [
    "9.Задайте два массива a = np.array([[1, 4.9, 2.4], [7.1, 7, 9.8], [2, 4.6, 1.2]]) и b = np.array([3, 5, 10, 0]). Создайте массив, в котором каждый элемент первого массива заменен на ближайший к нему элемент второго массива."
   ]
  },
  {
   "cell_type": "code",
   "execution_count": 24,
   "id": "ae34b0ee-8abf-4d1d-95eb-a52fe84b7149",
   "metadata": {},
   "outputs": [
    {
     "name": "stdout",
     "output_type": "stream",
     "text": [
      "[[ 0  5  3]\n",
      " [ 5 10 10]\n",
      " [ 3  5  0]]\n"
     ]
    }
   ],
   "source": [
    "import numpy as np\n",
    "a, b = np.array([[1,4.9,2.4],[7.1,7.9,8],[2,4.6,1.2]]), np.array([3,5,10,0]); print(b[np.argmin(np.abs(a[...,None]-b), axis=-1)])"
   ]
  },
  {
   "cell_type": "markdown",
   "id": "6994f3a0-0b39-4e3f-8dce-44ab18246b1c",
   "metadata": {},
   "source": [
    "10.Найдите скользящие средние с окном размера 3 по массиву a = np.array([1, 4.9, 2.4, 7.1, 7, 9.8, 2, -5, 4.6, 1.2])."
   ]
  },
  {
   "cell_type": "code",
   "execution_count": 26,
   "id": "a9e6b71d-68b4-4028-9213-bcf482a5bb71",
   "metadata": {},
   "outputs": [
    {
     "name": "stdout",
     "output_type": "stream",
     "text": [
      "[2.76666667 4.8        5.8        7.66666667 5.96666667 1.66666667\n",
      " 0.53333333 0.26666667]\n"
     ]
    }
   ],
   "source": [
    "import numpy as np\n",
    "a = np.array([1,4.9,2.4,7.1,7.9,8,2,-5,4.6,1.2]); print(np.convolve(a, np.ones(3)/3, mode='valid'))"
   ]
  }
 ],
 "metadata": {
  "kernelspec": {
   "display_name": "Python [conda env:base] *",
   "language": "python",
   "name": "conda-base-py"
  },
  "language_info": {
   "codemirror_mode": {
    "name": "ipython",
    "version": 3
   },
   "file_extension": ".py",
   "mimetype": "text/x-python",
   "name": "python",
   "nbconvert_exporter": "python",
   "pygments_lexer": "ipython3",
   "version": "3.13.5"
  }
 },
 "nbformat": 4,
 "nbformat_minor": 5
}
